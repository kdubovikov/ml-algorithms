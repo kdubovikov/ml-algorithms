{
 "cells": [
  {
   "cell_type": "code",
   "execution_count": 174,
   "metadata": {
    "collapsed": false
   },
   "outputs": [],
   "source": [
    "from sklearn.linear_model import LinearRegression, Ridge, Lasso\n",
    "from sklearn.datasets import make_regression, make_friedman1\n",
    "from sklearn.metrics import mean_squared_error\n",
    "import numpy as np\n",
    "import matplotlib.pyplot as plt\n",
    "%matplotlib inline\n",
    "\n",
    "x, y = make_friedman1(n_features=500, noise=7, n_samples=1000)"
   ]
  },
  {
   "cell_type": "code",
   "execution_count": 175,
   "metadata": {
    "collapsed": false
   },
   "outputs": [],
   "source": [
    "reg = LinearRegression()\n",
    "reg.fit(x, y)\n",
    "sklearn_mse = mean_squared_error(y, reg.predict(x))"
   ]
  },
  {
   "cell_type": "code",
   "execution_count": 176,
   "metadata": {
    "collapsed": false
   },
   "outputs": [
    {
     "data": {
      "text/plain": [
       "True"
      ]
     },
     "execution_count": 176,
     "metadata": {},
     "output_type": "execute_result"
    }
   ],
   "source": [
    "class MSELoss(object):\n",
    "    \"\"\"Mean Squared Error loss function\"\"\"\n",
    "    \n",
    "    def get_neg_gradient(self, y_true, y):\n",
    "        return y_true - y\n",
    "    \n",
    "    def __call__(self, y_true, y):\n",
    "        return np.mean((y_true - y) ** 2)\n",
    "    \n",
    "    \n",
    "loss = MSELoss()\n",
    "my_mse = loss(y, reg.predict(x))\n",
    "\n",
    "my_mse == sklearn_mse"
   ]
  },
  {
   "cell_type": "code",
   "execution_count": 215,
   "metadata": {
    "collapsed": false
   },
   "outputs": [
    {
     "data": {
      "text/plain": [
       "(29.258625841565809, 29.258625841565941)"
      ]
     },
     "execution_count": 215,
     "metadata": {},
     "output_type": "execute_result"
    }
   ],
   "source": [
    "from scipy.optimize import minimize\n",
    "\n",
    "class GradientBoostingRegressor(object):\n",
    "    def __init__(self, weak_learner, learning_rate, num_rounds, adaptive_learning_rate=False):\n",
    "        self.learning_rate = learning_rate\n",
    "        self.num_rounds = num_rounds\n",
    "        self.loss = MSELoss()\n",
    "        self.estimators = []\n",
    "        self.weak_learner = weak_learner\n",
    "        self.adaptive_learning_rate = adaptive_learning_rate\n",
    "        self.gammas = [1]\n",
    "    \n",
    "    def _fit_base_model(self, x, y):\n",
    "        self._base_model = self.weak_learner()\n",
    "        self._base_model.fit(x, y)\n",
    "        self.estimators.append(self._base_model)\n",
    "        \n",
    "    def _gamma_obj(self, gamma, y, old_preds, preds):\n",
    "        \"\"\"Objective function used to minimize learning rate when using adaptive mode\"\"\"\n",
    "        return self.loss(y, old_preds + gamma * preds)\n",
    "    \n",
    "    def _boosting_round(self, x, y, preds):\n",
    "        residual = self.loss.get_neg_gradient(y, preds)\n",
    "        \n",
    "        boosting_model = self.weak_learner()\n",
    "        boosting_model.fit(x, residual)\n",
    "        old_preds = preds\n",
    "        preds = boosting_model.predict(x)\n",
    "        \n",
    "        if self.adaptive_learning_rate:\n",
    "            gamma = minimize(self._gamma_obj, self.learning_rate, args=(y, old_preds, preds), tol=1e-28, method = 'Nelder-Mead').x[0]\n",
    "        else:\n",
    "            gamma = self.learning_rate\n",
    "        \n",
    "        self.estimators.append(boosting_model)\n",
    "        self.gammas.append(gamma)\n",
    "        \n",
    "        return preds * gamma\n",
    "        \n",
    "    def fit(self, x, y):\n",
    "        self._fit_base_model(x, y)\n",
    "        preds = self._base_model.predict(x)\n",
    "        \n",
    "        for i in range(0, self.num_rounds):\n",
    "            preds += self._boosting_round(x, y, preds)\n",
    "            \n",
    "    def predict(self, x):\n",
    "        result = self.estimators[0].predict(x)\n",
    "        for i, estimator in enumerate(self.estimators[1:]):\n",
    "            result += estimator.predict(x) * self.gammas[i + 1]\n",
    "            \n",
    "        return result\n",
    "            \n",
    "gbm = GradientBoostingRegressor(Ridge, 0.01, 100, adaptive_learning_rate=True)\n",
    "gbm.fit(x, y)\n",
    "p = gbm.predict(x)\n",
    "my_mse, loss(y, p)"
   ]
  },
  {
   "cell_type": "code",
   "execution_count": 216,
   "metadata": {
    "collapsed": false
   },
   "outputs": [
    {
     "data": {
      "text/plain": [
       "-1.3145040611561853e-13"
      ]
     },
     "execution_count": 216,
     "metadata": {},
     "output_type": "execute_result"
    }
   ],
   "source": [
    "my_mse - loss(y, p)"
   ]
  },
  {
   "cell_type": "code",
   "execution_count": 217,
   "metadata": {
    "collapsed": false
   },
   "outputs": [
    {
     "data": {
      "text/plain": [
       "[1,\n",
       " 1.0726567382812515,\n",
       " 1.0656640625000013,\n",
       " 1.0721875000000014,\n",
       " 1.0655000000000014,\n",
       " 0.0099999997615814219,\n",
       " 0.011000000000000001,\n",
       " 0.010500000000000001,\n",
       " 0.0099921874999999993,\n",
       " 0.01003125,\n",
       " 0.010015625,\n",
       " 0.010562499999999999,\n",
       " 0.01,\n",
       " 0.01,\n",
       " 0.0094999999999999998,\n",
       " 0.01000390625,\n",
       " 0.01,\n",
       " 0.010500000000000001,\n",
       " 0.0099687500000000002,\n",
       " 0.01,\n",
       " 0.0094999999999999998,\n",
       " 0.010500000000000001,\n",
       " 0.0099687500000000002,\n",
       " 0.01,\n",
       " 0.010500000000000001,\n",
       " 0.010499023437500001,\n",
       " 0.01,\n",
       " 0.010501953125000001,\n",
       " 0.01,\n",
       " 0.01,\n",
       " 0.01,\n",
       " 0.0098750000000000001,\n",
       " 0.01,\n",
       " 0.00975,\n",
       " 0.0094999999999999998,\n",
       " 0.01,\n",
       " 0.01,\n",
       " 0.0099960937500000006,\n",
       " 0.010500000000000001,\n",
       " 0.01,\n",
       " 0.0099375000000000002,\n",
       " 0.010625000000000001,\n",
       " 0.0094999999999999998,\n",
       " 0.010500000000000001,\n",
       " 0.01,\n",
       " 0.010500000000000001,\n",
       " 0.010500000000000001,\n",
       " 0.0099687500000000002,\n",
       " 0.010500000000000001,\n",
       " 0.0099687499999999984,\n",
       " 0.010250001907348632,\n",
       " 0.0097187499999999982,\n",
       " 0.010062500000000002,\n",
       " 0.010500244140625,\n",
       " 0.01,\n",
       " 0.01,\n",
       " 0.01,\n",
       " 0.01025,\n",
       " 0.01025,\n",
       " 0.01,\n",
       " 0.010500000000000001,\n",
       " 0.010500000000000001,\n",
       " 0.0094999999999999998,\n",
       " 0.01025,\n",
       " 0.0094999999999999998,\n",
       " 0.01,\n",
       " 0.011000000000000001,\n",
       " 0.010500000000000001,\n",
       " 0.01,\n",
       " 0.01,\n",
       " 0.010187500000000002,\n",
       " 0.0099999694824218742,\n",
       " 0.010500000000000001,\n",
       " 0.010500000000000001,\n",
       " 0.010007812500000001,\n",
       " 0.01,\n",
       " 0.0099990234375000007,\n",
       " 0.010500000000000001,\n",
       " 0.01,\n",
       " 0.01,\n",
       " 0.01,\n",
       " 0.0100009765625,\n",
       " 0.0094999999999999998,\n",
       " 0.010500000000000001,\n",
       " 0.01,\n",
       " 0.0104998779296875,\n",
       " 0.01,\n",
       " 0.0098750000000000001,\n",
       " 0.01,\n",
       " 0.01025,\n",
       " 0.01,\n",
       " 0.011000000000000001,\n",
       " 0.01,\n",
       " 0.010500000000000001,\n",
       " 0.010531249999999999,\n",
       " 0.0094995117187499992,\n",
       " 0.010500000000000001,\n",
       " 0.0098750000000000001,\n",
       " 0.010250000000000002,\n",
       " 0.0098750000000000001,\n",
       " 0.0097480468749999993]"
      ]
     },
     "execution_count": 217,
     "metadata": {},
     "output_type": "execute_result"
    }
   ],
   "source": [
    "gbm.gammas"
   ]
  }
 ],
 "metadata": {
  "kernelspec": {
   "display_name": "Python [default]",
   "language": "python",
   "name": "python3"
  },
  "language_info": {
   "codemirror_mode": {
    "name": "ipython",
    "version": 3
   },
   "file_extension": ".py",
   "mimetype": "text/x-python",
   "name": "python",
   "nbconvert_exporter": "python",
   "pygments_lexer": "ipython3",
   "version": "3.5.2"
  }
 },
 "nbformat": 4,
 "nbformat_minor": 1
}
